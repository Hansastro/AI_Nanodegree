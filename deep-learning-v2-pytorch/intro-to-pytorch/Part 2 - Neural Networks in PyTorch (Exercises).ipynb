{
 "cells": [
  {
   "cell_type": "markdown",
   "metadata": {},
   "source": [
    "# Neural networks with PyTorch\n",
    "\n",
    "Deep learning networks tend to be massive with dozens or hundreds of layers, that's where the term \"deep\" comes from. You can build one of these deep networks using only weight matrices as we did in the previous notebook, but in general it's very cumbersome and difficult to implement. PyTorch has a nice module `nn` that provides a nice way to efficiently build large neural networks."
   ]
  },
  {
   "cell_type": "code",
   "execution_count": 1,
   "metadata": {},
   "outputs": [],
   "source": [
    "# Import necessary packages\n",
    "\n",
    "%matplotlib inline\n",
    "%config InlineBackend.figure_format = 'retina'\n",
    "\n",
    "import numpy as np\n",
    "import torch\n",
    "\n",
    "import helper\n",
    "\n",
    "import matplotlib.pyplot as plt"
   ]
  },
  {
   "cell_type": "markdown",
   "metadata": {},
   "source": [
    "\n",
    "Now we're going to build a larger network that can solve a (formerly) difficult problem, identifying text in an image. Here we'll use the MNIST dataset which consists of greyscale handwritten digits. Each image is 28x28 pixels, you can see a sample below\n",
    "\n",
    "<img src='assets/mnist.png'>\n",
    "\n",
    "Our goal is to build a neural network that can take one of these images and predict the digit in the image.\n",
    "\n",
    "First up, we need to get our dataset. This is provided through the `torchvision` package. The code below will download the MNIST dataset, then create training and test datasets for us. Don't worry too much about the details here, you'll learn more about this later."
   ]
  },
  {
   "cell_type": "code",
   "execution_count": 2,
   "metadata": {},
   "outputs": [],
   "source": [
    "### Run this cell\n",
    "\n",
    "from torchvision import datasets, transforms\n",
    "\n",
    "# Define a transform to normalize the data\n",
    "transform = transforms.Compose([transforms.ToTensor(),\n",
    "                              transforms.Normalize((0.5,), (0.5,)),\n",
    "                              ])\n",
    "\n",
    "# Download and load the training data\n",
    "trainset = datasets.MNIST('~/.pytorch/MNIST_data/', download=True, train=True, transform=transform)\n",
    "trainloader = torch.utils.data.DataLoader(trainset, batch_size=64, shuffle=True)"
   ]
  },
  {
   "cell_type": "markdown",
   "metadata": {},
   "source": [
    "We have the training data loaded into `trainloader` and we make that an iterator with `iter(trainloader)`. Later, we'll use this to loop through the dataset for training, like\n",
    "\n",
    "```python\n",
    "for image, label in trainloader:\n",
    "    ## do things with images and labels\n",
    "```\n",
    "\n",
    "You'll notice I created the `trainloader` with a batch size of 64, and `shuffle=True`. The batch size is the number of images we get in one iteration from the data loader and pass through our network, often called a *batch*. And `shuffle=True` tells it to shuffle the dataset every time we start going through the data loader again. But here I'm just grabbing the first batch so we can check out the data. We can see below that `images` is just a tensor with size `(64, 1, 28, 28)`. So, 64 images per batch, 1 color channel, and 28x28 images."
   ]
  },
  {
   "cell_type": "code",
   "execution_count": 3,
   "metadata": {},
   "outputs": [
    {
     "name": "stdout",
     "output_type": "stream",
     "text": [
      "<class 'torch.Tensor'>\n",
      "torch.Size([64, 1, 28, 28])\n",
      "torch.Size([64])\n"
     ]
    }
   ],
   "source": [
    "dataiter = iter(trainloader)\n",
    "images, labels = dataiter.next()\n",
    "print(type(images))\n",
    "print(images.shape)\n",
    "print(labels.shape)"
   ]
  },
  {
   "cell_type": "code",
   "execution_count": 4,
   "metadata": {},
   "outputs": [
    {
     "data": {
      "text/plain": [
       "torch.Size([64, 1, 28, 28])"
      ]
     },
     "execution_count": 4,
     "metadata": {},
     "output_type": "execute_result"
    }
   ],
   "source": [
    "images.shape"
   ]
  },
  {
   "cell_type": "code",
   "execution_count": 5,
   "metadata": {},
   "outputs": [],
   "source": [
    "i = images.view(64, 784)"
   ]
  },
  {
   "cell_type": "code",
   "execution_count": 6,
   "metadata": {},
   "outputs": [
    {
     "data": {
      "text/plain": [
       "torch.Size([64, 784])"
      ]
     },
     "execution_count": 6,
     "metadata": {},
     "output_type": "execute_result"
    }
   ],
   "source": [
    "i.shape"
   ]
  },
  {
   "cell_type": "markdown",
   "metadata": {},
   "source": [
    "This is what one of the images looks like. "
   ]
  },
  {
   "cell_type": "code",
   "execution_count": 7,
   "metadata": {},
   "outputs": [
    {
     "data": {
      "image/png": "[encoded data removed]",
      "text/plain": [
       "<Figure size 432x288 with 1 Axes>"
      ]
     },
     "metadata": {
      "image/png": {
       "height": 248,
       "width": 251
      },
      "needs_background": "light"
     },
     "output_type": "display_data"
    }
   ],
   "source": [
    "plt.imshow(images[1].numpy().squeeze(), cmap='Greys_r');"
   ]
  },
  {
   "cell_type": "markdown",
   "metadata": {},
   "source": [
    "First, let's try to build a simple network for this dataset using weight matrices and matrix multiplications. Then, we'll see how to do it using PyTorch's `nn` module which provides a much more convenient and powerful method for defining network architectures.\n",
    "\n",
    "The networks you've seen so far are called *fully-connected* or *dense* networks. Each unit in one layer is connected to each unit in the next layer. In fully-connected networks, the input to each layer must be a one-dimensional vector (which can be stacked into a 2D tensor as a batch of multiple examples). However, our images are 28x28 2D tensors, so we need to convert them into 1D vectors. Thinking about sizes, we need to convert the batch of images with shape `(64, 1, 28, 28)` to a have a shape of `(64, 784)`, 784 is 28 times 28. This is typically called *flattening*, we flattened the 2D images into 1D vectors.\n",
    "\n",
    "Previously you built a network with one output unit. Here we need 10 output units, one for each digit. We want our network to predict the digit shown in an image, so what we'll do is calculate probabilities that the image is of any one digit or class. This ends up being a discrete probability distribution over the classes (digits) that tells us the most likely class for the image. That means we need 10 output units for the 10 classes (digits). We'll see how to convert the network output into a probability distribution next.\n",
    "\n",
    "> **Exercise:** Flatten the batch of images `images`. Then build a multi-layer network with 784 input units, 256 hidden units, and 10 output units using random tensors for the weights and biases. For now, use a sigmoid activation for the hidden layer. Leave the output layer without an activation, we'll add one that gives us a probability distribution next."
   ]
  },
  {
   "cell_type": "code",
   "execution_count": 19,
   "metadata": {},
   "outputs": [],
   "source": [
    "## Your solution\n",
    "def activation(x):\n",
    "    \"\"\" Sigmoid activation function \n",
    "    \n",
    "        Arguments\n",
    "        ---------\n",
    "        x: torch.Tensor\n",
    "    \"\"\"\n",
    "    return 1/(1+torch.exp(-x))\n",
    "\n",
    "def run_network(inputs):\n",
    "    n_input = 784\n",
    "    n_hidden = 256\n",
    "    n_output = 10\n",
    "\n",
    "    torch.manual_seed(42)\n",
    "\n",
    "    # Weights of connexion\n",
    "    W1 = torch.randn(n_input, n_hidden)\n",
    "    W2 = torch.randn(n_hidden, n_output)\n",
    "\n",
    "    # Bias\n",
    "    B1 = torch.randn(n_hidden)\n",
    "    B2 = torch.randn(n_output)\n",
    "\n",
    "    h1 = activation(torch.mm(inputs, W1) + B1)\n",
    "    h2 = torch.mm(h1, W2) + B2\n",
    "\n",
    "    return h2\n",
    "\n",
    "out = run_network(inputs = images.view(images.shape[0], -1)) # output of your network, should have shape (64,10)"
   ]
  },
  {
   "cell_type": "code",
   "execution_count": 20,
   "metadata": {},
   "outputs": [
    {
     "data": {
      "text/plain": [
       "tensor([[1.2828e-09, 3.5295e-01, 1.6700e-05, 8.1662e-06, 6.4688e-01, 1.3692e-04,\n",
       "         3.2702e-06, 4.3475e-07, 3.8222e-10, 1.1120e-08],\n",
       "        [9.7613e-05, 5.1988e-01, 4.6978e-04, 3.2683e-08, 2.6772e-01, 1.8960e-01,\n",
       "         3.1847e-08, 2.1906e-02, 3.1954e-04, 2.6691e-09],\n",
       "        [1.0227e-06, 4.3097e-02, 8.8920e-10, 2.0585e-08, 9.5681e-01, 8.8664e-05,\n",
       "         1.0946e-07, 9.0817e-09, 2.4037e-07, 1.3742e-08],\n",
       "        [3.9510e-06, 4.6608e-07, 2.5132e-07, 2.9766e-09, 1.6052e-04, 9.9983e-01,\n",
       "         5.6323e-09, 6.2988e-07, 5.3953e-06, 8.9259e-07],\n",
       "        [1.1656e-07, 8.1299e-01, 1.6977e-05, 1.3293e-04, 1.8637e-01, 2.8162e-04,\n",
       "         1.3704e-05, 1.9604e-04, 2.0460e-09, 8.7829e-08],\n",
       "        [6.0391e-06, 7.6544e-01, 3.2867e-09, 2.5466e-09, 1.6573e-01, 7.9124e-07,\n",
       "         1.5859e-10, 6.8794e-02, 8.1760e-07, 2.9050e-05],\n",
       "        [9.2049e-06, 7.4796e-01, 8.1572e-09, 1.4061e-04, 9.6218e-03, 6.4394e-04,\n",
       "         2.0736e-09, 2.4150e-01, 5.9877e-09, 1.2307e-04],\n",
       "        [1.0989e-13, 6.1201e-01, 3.2232e-07, 3.1228e-07, 3.8798e-01, 1.1599e-05,\n",
       "         8.3822e-07, 1.6529e-07, 5.1561e-11, 2.3668e-12],\n",
       "        [2.8987e-11, 5.9541e-06, 4.2759e-09, 5.3067e-09, 9.9995e-01, 4.0808e-05,\n",
       "         8.0900e-11, 9.0346e-07, 6.3414e-12, 4.2513e-09],\n",
       "        [4.1523e-12, 1.0000e+00, 2.7929e-12, 1.6231e-13, 7.3173e-10, 8.8990e-09,\n",
       "         1.5660e-13, 5.0785e-07, 6.5102e-10, 3.2233e-08],\n",
       "        [5.1897e-07, 1.2821e-02, 7.7838e-04, 7.9220e-03, 9.1994e-01, 1.0889e-03,\n",
       "         9.5095e-07, 5.7166e-02, 2.8137e-04, 7.9200e-08],\n",
       "        [6.9401e-12, 3.6624e-04, 1.0658e-13, 2.3746e-09, 9.9963e-01, 2.3554e-10,\n",
       "         6.8592e-13, 6.6382e-08, 1.1010e-12, 1.1884e-14],\n",
       "        [7.9358e-08, 9.9966e-01, 2.0787e-07, 3.8519e-10, 2.7603e-04, 1.8760e-07,\n",
       "         3.4558e-10, 5.9549e-05, 2.5189e-11, 2.7675e-09],\n",
       "        [2.3467e-07, 2.8574e-03, 9.6704e-13, 5.1250e-05, 9.9688e-01, 6.4727e-07,\n",
       "         2.8930e-06, 2.0635e-04, 3.5421e-08, 1.4121e-08],\n",
       "        [3.1956e-08, 8.4517e-02, 1.3834e-07, 8.4724e-06, 9.0766e-01, 6.0101e-03,\n",
       "         2.3620e-08, 1.4944e-03, 3.1417e-04, 4.4898e-10],\n",
       "        [1.1518e-08, 2.2999e-02, 1.3146e-09, 1.3352e-07, 6.3737e-02, 5.1306e-04,\n",
       "         8.2151e-10, 9.1181e-01, 1.5838e-06, 9.3814e-04],\n",
       "        [6.7919e-07, 9.7795e-01, 2.9482e-11, 9.2170e-09, 2.2045e-02, 1.4131e-06,\n",
       "         4.9198e-14, 9.0770e-09, 3.2287e-11, 3.3728e-09],\n",
       "        [1.3087e-10, 4.2878e-02, 1.4165e-02, 1.3254e-06, 4.2749e-02, 3.0608e-06,\n",
       "         4.3883e-07, 9.0020e-01, 2.9392e-06, 7.0453e-07],\n",
       "        [6.8426e-11, 9.6638e-01, 5.7758e-08, 4.5376e-12, 2.9829e-05, 6.0007e-10,\n",
       "         1.4287e-07, 3.3593e-02, 1.5098e-12, 8.7947e-08],\n",
       "        [1.7507e-09, 5.4021e-01, 1.7210e-07, 1.7965e-06, 4.5613e-01, 7.8561e-04,\n",
       "         1.4364e-04, 2.7114e-03, 1.4501e-05, 7.9017e-11],\n",
       "        [2.7756e-08, 4.8680e-01, 3.1281e-11, 1.9788e-10, 5.1320e-01, 1.2783e-07,\n",
       "         4.3944e-16, 5.9166e-07, 5.4707e-10, 2.0300e-13],\n",
       "        [9.5555e-07, 6.5065e-05, 1.8328e-10, 2.0822e-03, 9.8090e-01, 1.7443e-04,\n",
       "         7.3738e-13, 1.6287e-02, 8.4886e-05, 4.1029e-04],\n",
       "        [1.5560e-08, 3.4516e-02, 1.5186e-06, 1.4310e-09, 3.3231e-05, 8.7769e-05,\n",
       "         1.2430e-05, 9.5624e-01, 1.8281e-11, 9.1063e-03],\n",
       "        [6.7313e-09, 8.6412e-01, 4.8331e-11, 3.9191e-10, 4.8482e-05, 1.9468e-08,\n",
       "         5.6632e-11, 1.3500e-01, 2.5061e-09, 8.3674e-04],\n",
       "        [5.1058e-08, 1.1241e-01, 1.4724e-04, 1.7621e-05, 8.8521e-01, 2.2078e-03,\n",
       "         1.4965e-07, 2.6061e-07, 1.6034e-10, 2.3250e-09],\n",
       "        [1.1966e-11, 1.2197e-01, 1.7835e-05, 1.0209e-06, 8.7795e-01, 3.7255e-05,\n",
       "         1.9530e-05, 1.8277e-06, 5.0921e-09, 8.1678e-09],\n",
       "        [8.3264e-09, 9.9997e-01, 1.0604e-10, 3.0456e-07, 3.0803e-05, 2.8981e-08,\n",
       "         1.5979e-09, 7.5222e-08, 1.7923e-09, 6.7296e-11],\n",
       "        [3.7181e-09, 4.7764e-06, 7.8244e-07, 4.9705e-06, 1.7288e-09, 5.4615e-06,\n",
       "         2.7370e-09, 9.9780e-01, 2.2016e-09, 2.1793e-03],\n",
       "        [5.1133e-11, 2.2928e-03, 4.4569e-03, 4.9476e-05, 7.9444e-03, 1.6187e-05,\n",
       "         6.3573e-07, 9.8524e-01, 2.5302e-06, 5.5965e-09],\n",
       "        [1.2701e-07, 9.9948e-01, 2.8314e-08, 2.1067e-12, 2.2673e-04, 1.0753e-06,\n",
       "         3.1840e-09, 2.9377e-04, 3.3956e-12, 8.2936e-07],\n",
       "        [1.7642e-06, 3.6599e-01, 3.1403e-05, 4.6949e-05, 2.8217e-01, 1.6176e-09,\n",
       "         6.4243e-05, 3.5170e-01, 3.1373e-08, 3.9432e-09],\n",
       "        [7.8555e-10, 9.9960e-01, 5.9146e-08, 6.8940e-08, 3.8644e-04, 1.2623e-05,\n",
       "         2.1285e-08, 5.3330e-11, 2.0045e-13, 2.7135e-09],\n",
       "        [2.8935e-13, 2.4528e-05, 1.2525e-08, 5.9675e-07, 9.9997e-01, 3.0788e-11,\n",
       "         7.2302e-15, 1.1975e-08, 7.4299e-11, 9.7646e-10],\n",
       "        [8.7479e-08, 2.8968e-01, 3.5783e-07, 1.5881e-07, 7.0297e-01, 3.3389e-05,\n",
       "         1.1922e-09, 7.2956e-03, 3.2409e-09, 1.3486e-05],\n",
       "        [1.0883e-08, 4.7950e-02, 9.8170e-11, 8.0216e-08, 9.5205e-01, 9.6453e-09,\n",
       "         3.8817e-08, 1.5715e-06, 8.9599e-08, 2.7155e-10],\n",
       "        [1.4072e-08, 9.9085e-01, 1.1610e-06, 5.3619e-09, 8.5589e-03, 2.4094e-09,\n",
       "         2.6259e-07, 5.8246e-04, 2.5989e-08, 3.1753e-06],\n",
       "        [2.2195e-02, 9.2104e-01, 1.7260e-03, 2.2305e-03, 2.1979e-02, 4.4615e-04,\n",
       "         3.9903e-08, 3.0343e-02, 1.8535e-05, 2.4573e-05],\n",
       "        [2.4628e-06, 9.9493e-02, 6.1858e-01, 4.8810e-03, 1.9177e-06, 1.3578e-04,\n",
       "         4.5508e-11, 2.7669e-01, 2.8438e-09, 2.1774e-04],\n",
       "        [2.5297e-13, 9.9923e-01, 1.5090e-07, 2.3962e-10, 7.6857e-04, 5.7537e-06,\n",
       "         2.1022e-08, 4.5484e-08, 4.5599e-11, 4.7055e-12],\n",
       "        [1.7096e-05, 2.5752e-03, 9.4270e-01, 2.8041e-05, 4.0242e-03, 2.5412e-05,\n",
       "         1.2777e-06, 4.9654e-02, 8.1983e-06, 9.6169e-04],\n",
       "        [1.9729e-07, 9.9329e-01, 1.1080e-09, 4.1790e-10, 3.4008e-03, 3.3115e-03,\n",
       "         5.9591e-11, 1.5666e-12, 1.8550e-06, 2.7907e-12],\n",
       "        [1.1088e-07, 9.9268e-01, 4.5979e-07, 8.6373e-05, 7.3109e-04, 2.1885e-04,\n",
       "         5.1035e-06, 4.0725e-03, 3.7398e-11, 2.2015e-03],\n",
       "        [5.7661e-09, 7.5097e-03, 9.8872e-10, 2.7979e-11, 9.2747e-01, 1.3102e-08,\n",
       "         3.6751e-08, 6.5021e-02, 1.2110e-07, 1.9574e-07],\n",
       "        [1.2923e-07, 6.5688e-01, 4.2669e-05, 1.7634e-07, 3.3645e-01, 6.4436e-03,\n",
       "         4.5521e-06, 1.8264e-04, 1.3334e-08, 1.4188e-07],\n",
       "        [5.5512e-07, 7.4529e-01, 1.5640e-09, 1.1497e-06, 2.5350e-01, 8.1161e-06,\n",
       "         8.0482e-07, 1.1989e-03, 4.3084e-13, 6.3531e-08],\n",
       "        [1.5345e-11, 6.2091e-01, 3.1005e-12, 2.9867e-08, 6.6411e-04, 6.7646e-07,\n",
       "         2.4818e-04, 3.7818e-01, 8.2239e-08, 2.6363e-07],\n",
       "        [5.3653e-13, 9.9480e-01, 5.5278e-06, 2.9698e-10, 5.4522e-06, 4.3235e-03,\n",
       "         3.5898e-08, 8.6669e-04, 2.7921e-06, 2.5509e-11],\n",
       "        [1.0431e-07, 5.7531e-04, 1.4346e-04, 1.1403e-04, 3.6234e-01, 1.0440e-07,\n",
       "         1.3488e-11, 6.3681e-01, 2.4287e-10, 1.5141e-05],\n",
       "        [8.3886e-10, 9.6914e-01, 2.5594e-08, 4.1016e-06, 3.0667e-02, 1.8108e-04,\n",
       "         8.0736e-06, 2.1963e-08, 2.4208e-09, 6.6595e-12],\n",
       "        [5.6780e-03, 1.2224e-03, 4.7294e-05, 8.1675e-05, 9.9110e-01, 9.3973e-04,\n",
       "         5.1573e-12, 6.3656e-04, 4.0660e-05, 2.5173e-04],\n",
       "        [1.1678e-07, 1.8301e-01, 4.5002e-06, 3.8331e-08, 1.0462e-02, 7.9823e-01,\n",
       "         1.6107e-06, 8.2925e-03, 3.7314e-07, 7.9164e-11],\n",
       "        [3.3918e-07, 9.6614e-01, 5.4525e-04, 1.0297e-06, 2.3254e-02, 6.7585e-06,\n",
       "         2.2981e-08, 1.0008e-02, 5.6884e-09, 4.2632e-05],\n",
       "        [8.0063e-09, 9.9998e-01, 1.2654e-09, 8.3675e-11, 6.3445e-07, 1.3386e-05,\n",
       "         1.0183e-10, 7.5899e-06, 3.8249e-15, 9.8096e-09],\n",
       "        [1.8868e-10, 1.2635e-02, 1.9633e-06, 7.4170e-03, 2.2985e-01, 6.2984e-01,\n",
       "         2.8153e-07, 1.2022e-01, 8.2578e-06, 3.2774e-05],\n",
       "        [2.7626e-08, 2.3227e-02, 1.7805e-07, 1.7819e-06, 9.7383e-01, 2.8322e-03,\n",
       "         4.9418e-05, 6.0659e-05, 3.6644e-10, 9.7514e-12],\n",
       "        [9.7435e-11, 9.9992e-01, 5.4862e-12, 1.4633e-06, 7.4808e-05, 5.3238e-07,\n",
       "         2.5519e-07, 4.5804e-12, 4.7229e-13, 3.0540e-12],\n",
       "        [9.6746e-13, 4.8832e-03, 1.1407e-04, 7.7744e-07, 3.4928e-06, 3.6955e-06,\n",
       "         5.6178e-06, 9.9499e-01, 2.0840e-06, 4.7958e-09],\n",
       "        [6.8365e-13, 9.9992e-01, 2.4755e-11, 1.2999e-13, 3.8767e-05, 2.6216e-11,\n",
       "         3.5245e-11, 3.9990e-05, 2.8515e-11, 3.5309e-10],\n",
       "        [1.7806e-08, 3.2411e-02, 2.0785e-01, 2.4798e-04, 1.7839e-02, 1.1504e-02,\n",
       "         1.6230e-03, 7.2852e-01, 3.0831e-06, 3.4105e-07],\n",
       "        [1.3435e-07, 9.9846e-01, 2.4898e-07, 1.4106e-09, 5.4645e-04, 8.9501e-09,\n",
       "         2.4194e-09, 2.1245e-04, 1.0681e-08, 7.7930e-04],\n",
       "        [7.6718e-09, 3.3467e-01, 4.5208e-10, 1.1863e-09, 6.6529e-01, 3.1486e-06,\n",
       "         8.6006e-11, 4.5265e-05, 8.6867e-10, 3.4908e-12],\n",
       "        [3.6111e-06, 1.0182e-02, 1.1437e-05, 8.2108e-05, 2.5223e-06, 9.6046e-01,\n",
       "         2.3141e-06, 2.7810e-02, 1.0011e-06, 1.4398e-03],\n",
       "        [1.3230e-08, 2.8606e-03, 1.4744e-06, 5.8794e-07, 1.4216e-06, 9.9712e-01,\n",
       "         1.9436e-09, 2.2089e-06, 1.0156e-05, 3.8018e-08],\n",
       "        [5.2823e-13, 9.7849e-01, 5.5569e-07, 1.4824e-06, 2.1492e-02, 6.9338e-06,\n",
       "         4.1802e-06, 5.6995e-06, 1.6832e-09, 1.6060e-09]])"
      ]
     },
     "execution_count": 20,
     "metadata": {},
     "output_type": "execute_result"
    }
   ],
   "source": [
    "#torch.exp(out[0]) / torch.exp(out[0].sum())\n",
    "torch.exp(out)/torch.sum(torch.exp(out), dim=1).view(-1, 1)"
   ]
  },
  {
   "cell_type": "markdown",
   "metadata": {},
   "source": [
    "Now we have 10 outputs for our network. We want to pass in an image to our network and get out a probability distribution over the classes that tells us the likely class(es) the image belongs to. Something that looks like this:\n",
    "<img src='assets/image_distribution.png' width=500px>\n",
    "\n",
    "Here we see that the probability for each class is roughly the same. This is representing an untrained network, it hasn't seen any data yet so it just returns a uniform distribution with equal probabilities for each class.\n",
    "\n",
    "To calculate this probability distribution, we often use the [**softmax** function](https://en.wikipedia.org/wiki/Softmax_function). Mathematically this looks like\n",
    "\n",
    "$$\n",
    "\\Large \\sigma(x_i) = \\cfrac{e^{x_i}}{\\sum_k^K{e^{x_k}}}\n",
    "$$\n",
    "\n",
    "What this does is squish each input $x_i$ between 0 and 1 and normalizes the values to give you a proper probability distribution where the probabilites sum up to one.\n",
    "\n",
    "> **Exercise:** Implement a function `softmax` that performs the softmax calculation and returns probability distributions for each example in the batch. Note that you'll need to pay attention to the shapes when doing this. If you have a tensor `a` with shape `(64, 10)` and a tensor `b` with shape `(64,)`, doing `a/b` will give you an error because PyTorch will try to do the division across the columns (called broadcasting) but you'll get a size mismatch. The way to think about this is for each of the 64 examples, you only want to divide by one value, the sum in the denominator. So you need `b` to have a shape of `(64, 1)`. This way PyTorch will divide the 10 values in each row of `a` by the one value in each row of `b`. Pay attention to how you take the sum as well. You'll need to define the `dim` keyword in `torch.sum`. Setting `dim=0` takes the sum across the rows while `dim=1` takes the sum across the columns."
   ]
  },
  {
   "cell_type": "code",
   "execution_count": 21,
   "metadata": {},
   "outputs": [
    {
     "name": "stdout",
     "output_type": "stream",
     "text": [
      "torch.Size([64, 10])\n",
      "tensor([1.0000, 1.0000, 1.0000, 1.0000, 1.0000, 1.0000, 1.0000, 1.0000, 1.0000,\n",
      "        1.0000, 1.0000, 1.0000, 1.0000, 1.0000, 1.0000, 1.0000, 1.0000, 1.0000,\n",
      "        1.0000, 1.0000, 1.0000, 1.0000, 1.0000, 1.0000, 1.0000, 1.0000, 1.0000,\n",
      "        1.0000, 1.0000, 1.0000, 1.0000, 1.0000, 1.0000, 1.0000, 1.0000, 1.0000,\n",
      "        1.0000, 1.0000, 1.0000, 1.0000, 1.0000, 1.0000, 1.0000, 1.0000, 1.0000,\n",
      "        1.0000, 1.0000, 1.0000, 1.0000, 1.0000, 1.0000, 1.0000, 1.0000, 1.0000,\n",
      "        1.0000, 1.0000, 1.0000, 1.0000, 1.0000, 1.0000, 1.0000, 1.0000, 1.0000,\n",
      "        1.0000])\n"
     ]
    }
   ],
   "source": [
    "def softmax(x):\n",
    "    ## TODO: Implement the softmax function here\n",
    "    return torch.exp(x)/torch.sum(torch.exp(x), dim=1).view(-1, 1)\n",
    "    #return torch.exp(x) / torch.exp(x.sum())\n",
    "\n",
    "# Here, out should be the output of the network in the previous excercise with shape (64,10)\n",
    "probabilities = softmax(out)\n",
    "\n",
    "# Does it have the right shape? Should be (64, 10)\n",
    "print(probabilities.shape)\n",
    "# Does it sum to 1?\n",
    "print(probabilities.sum(dim=1))"
   ]
  },
  {
   "cell_type": "markdown",
   "metadata": {},
   "source": [
    "## Building networks with PyTorch\n",
    "\n",
    "PyTorch provides a module `nn` that makes building networks much simpler. Here I'll show you how to build the same one as above with 784 inputs, 256 hidden units, 10 output units and a softmax output."
   ]
  },
  {
   "cell_type": "code",
   "execution_count": 11,
   "metadata": {},
   "outputs": [],
   "source": [
    "from torch import nn"
   ]
  },
  {
   "cell_type": "code",
   "execution_count": 12,
   "metadata": {},
   "outputs": [],
   "source": [
    "class Network(nn.Module):\n",
    "    def __init__(self):\n",
    "        super().__init__()\n",
    "        \n",
    "        # Inputs to hidden layer linear transformation\n",
    "        self.hidden = nn.Linear(784, 256)\n",
    "        # Output layer, 10 units - one for each digit\n",
    "        self.output = nn.Linear(256, 10)\n",
    "        \n",
    "        # Define sigmoid activation and softmax output \n",
    "        self.sigmoid = nn.Sigmoid()\n",
    "        self.softmax = nn.Softmax(dim=1)\n",
    "        \n",
    "    def forward(self, x):\n",
    "        # Pass the input tensor through each of our operations\n",
    "        x = self.hidden(x)\n",
    "        x = self.sigmoid(x)\n",
    "        x = self.output(x)\n",
    "        x = self.softmax(x)\n",
    "        \n",
    "        return x"
   ]
  },
  {
   "cell_type": "markdown",
   "metadata": {},
   "source": [
    "Let's go through this bit by bit.\n",
    "\n",
    "```python\n",
    "class Network(nn.Module):\n",
    "```\n",
    "\n",
    "Here we're inheriting from `nn.Module`. Combined with `super().__init__()` this creates a class that tracks the architecture and provides a lot of useful methods and attributes. It is mandatory to inherit from `nn.Module` when you're creating a class for your network. The name of the class itself can be anything.\n",
    "\n",
    "```python\n",
    "self.hidden = nn.Linear(784, 256)\n",
    "```\n",
    "\n",
    "This line creates a module for a linear transformation, $x\\mathbf{W} + b$, with 784 inputs and 256 outputs and assigns it to `self.hidden`. The module automatically creates the weight and bias tensors which we'll use in the `forward` method. You can access the weight and bias tensors once the network (`net`) is created with `net.hidden.weight` and `net.hidden.bias`.\n",
    "\n",
    "```python\n",
    "self.output = nn.Linear(256, 10)\n",
    "```\n",
    "\n",
    "Similarly, this creates another linear transformation with 256 inputs and 10 outputs.\n",
    "\n",
    "```python\n",
    "self.sigmoid = nn.Sigmoid()\n",
    "self.softmax = nn.Softmax(dim=1)\n",
    "```\n",
    "\n",
    "Here I defined operations for the sigmoid activation and softmax output. Setting `dim=1` in `nn.Softmax(dim=1)` calculates softmax across the columns.\n",
    "\n",
    "```python\n",
    "def forward(self, x):\n",
    "```\n",
    "\n",
    "PyTorch networks created with `nn.Module` must have a `forward` method defined. It takes in a tensor `x` and passes it through the operations you defined in the `__init__` method.\n",
    "\n",
    "```python\n",
    "x = self.hidden(x)\n",
    "x = self.sigmoid(x)\n",
    "x = self.output(x)\n",
    "x = self.softmax(x)\n",
    "```\n",
    "\n",
    "Here the input tensor `x` is passed through each operation and reassigned to `x`. We can see that the input tensor goes through the hidden layer, then a sigmoid function, then the output layer, and finally the softmax function. It doesn't matter what you name the variables here, as long as the inputs and outputs of the operations match the network architecture you want to build. The order in which you define things in the `__init__` method doesn't matter, but you'll need to sequence the operations correctly in the `forward` method.\n",
    "\n",
    "Now we can create a `Network` object."
   ]
  },
  {
   "cell_type": "code",
   "execution_count": 13,
   "metadata": {},
   "outputs": [
    {
     "data": {
      "text/plain": [
       "Network(\n",
       "  (hidden): Linear(in_features=784, out_features=256, bias=True)\n",
       "  (output): Linear(in_features=256, out_features=10, bias=True)\n",
       "  (sigmoid): Sigmoid()\n",
       "  (softmax): Softmax(dim=1)\n",
       ")"
      ]
     },
     "execution_count": 13,
     "metadata": {},
     "output_type": "execute_result"
    }
   ],
   "source": [
    "# Create the network and look at it's text representation\n",
    "model = Network()\n",
    "model"
   ]
  },
  {
   "cell_type": "markdown",
   "metadata": {},
   "source": [
    "You can define the network somewhat more concisely and clearly using the `torch.nn.functional` module. This is the most common way you'll see networks defined as many operations are simple element-wise functions. We normally import this module as `F`, `import torch.nn.functional as F`."
   ]
  },
  {
   "cell_type": "code",
   "execution_count": 14,
   "metadata": {},
   "outputs": [],
   "source": [
    "import torch.nn.functional as F\n",
    "\n",
    "class Network(nn.Module):\n",
    "    def __init__(self):\n",
    "        super().__init__()\n",
    "        # Inputs to hidden layer linear transformation\n",
    "        self.hidden = nn.Linear(784, 256)\n",
    "        # Output layer, 10 units - one for each digit\n",
    "        self.output = nn.Linear(256, 10)\n",
    "        \n",
    "    def forward(self, x):\n",
    "        # Hidden layer with sigmoid activation\n",
    "        x = F.sigmoid(self.hidden(x))\n",
    "        # Output layer with softmax activation\n",
    "        x = F.softmax(self.output(x), dim=1)\n",
    "        \n",
    "        return x"
   ]
  },
  {
   "cell_type": "markdown",
   "metadata": {},
   "source": [
    "### Activation functions\n",
    "\n",
    "So far we've only been looking at the sigmoid activation function, but in general any function can be used as an activation function. The only requirement is that for a network to approximate a non-linear function, the activation functions must be non-linear. Here are a few more examples of common activation functions: Tanh (hyperbolic tangent), and ReLU (rectified linear unit).\n",
    "\n",
    "<img src=\"assets/activation.png\" width=700px>\n",
    "\n",
    "In practice, the ReLU function is used almost exclusively as the activation function for hidden layers."
   ]
  },
  {
   "cell_type": "markdown",
   "metadata": {},
   "source": [
    "### Your Turn to Build a Network\n",
    "\n",
    "<img src=\"assets/mlp_mnist.png\" width=600px>\n",
    "\n",
    "> **Exercise:** Create a network with 784 input units, a hidden layer with 128 units and a ReLU activation, then a hidden layer with 64 units and a ReLU activation, and finally an output layer with a softmax activation as shown above. You can use a ReLU activation with the `nn.ReLU` module or `F.relu` function.\n",
    "\n",
    "It's good practice to name your layers by their type of network, for instance 'fc' to represent a fully-connected layer. As you code your solution, use `fc1`, `fc2`, and `fc3` as your layer names."
   ]
  },
  {
   "cell_type": "code",
   "execution_count": 30,
   "metadata": {
    "scrolled": true
   },
   "outputs": [],
   "source": [
    "## Your solution here\n",
    "import torch.nn.functional as F\n",
    "\n",
    "class Network(nn.Module):\n",
    "    def __init__(self):\n",
    "        super().__init__()\n",
    "        self.fc1 = nn.Linear(784, 128)\n",
    "        self.fc2 = nn.Linear(128, 64)\n",
    "        # Output layer, 10 units - one for each digit\n",
    "        self.output = nn.Linear(64, 10)\n",
    "    \n",
    "    def forward(self, x):\n",
    "        x = F.relu(self.fc1(x))\n",
    "        x = F.relu(self.fc2(x))\n",
    "        # Output layer with softmax activation\n",
    "        x = F.softmax(self.output(x), dim=1)\n",
    "        \n",
    "        return x\n",
    "    \n",
    "model = Network()"
   ]
  },
  {
   "cell_type": "markdown",
   "metadata": {},
   "source": [
    "### Initializing weights and biases\n",
    "\n",
    "The weights and such are automatically initialized for you, but it's possible to customize how they are initialized. The weights and biases are tensors attached to the layer you defined, you can get them with `model.fc1.weight` for instance."
   ]
  },
  {
   "cell_type": "code",
   "execution_count": 31,
   "metadata": {},
   "outputs": [
    {
     "name": "stdout",
     "output_type": "stream",
     "text": [
      "Parameter containing:\n",
      "tensor([[-0.0284, -0.0067,  0.0006,  ..., -0.0291,  0.0334,  0.0102],\n",
      "        [ 0.0152,  0.0038,  0.0305,  ...,  0.0049, -0.0071,  0.0185],\n",
      "        [-0.0244,  0.0334,  0.0328,  ...,  0.0195, -0.0338, -0.0242],\n",
      "        ...,\n",
      "        [-0.0108,  0.0024,  0.0203,  ...,  0.0178, -0.0341,  0.0026],\n",
      "        [-0.0305, -0.0019, -0.0013,  ...,  0.0114, -0.0019, -0.0125],\n",
      "        [ 0.0109,  0.0031, -0.0029,  ..., -0.0321, -0.0328, -0.0310]],\n",
      "       requires_grad=True)\n",
      "Parameter containing:\n",
      "tensor([-0.0186,  0.0091,  0.0215, -0.0131, -0.0267, -0.0007,  0.0287,  0.0041,\n",
      "         0.0224, -0.0340,  0.0013,  0.0011,  0.0225, -0.0322, -0.0137, -0.0072,\n",
      "        -0.0271, -0.0154, -0.0119,  0.0165,  0.0015, -0.0080, -0.0257,  0.0285,\n",
      "         0.0073,  0.0326,  0.0072,  0.0262, -0.0124, -0.0324, -0.0007,  0.0177,\n",
      "         0.0229, -0.0011,  0.0282,  0.0198, -0.0280,  0.0078, -0.0163, -0.0306,\n",
      "         0.0175,  0.0275,  0.0142,  0.0083,  0.0203, -0.0113,  0.0174,  0.0156,\n",
      "         0.0330, -0.0106, -0.0086, -0.0116,  0.0148, -0.0198, -0.0002, -0.0033,\n",
      "        -0.0068,  0.0071, -0.0140,  0.0232,  0.0335, -0.0313, -0.0199, -0.0267,\n",
      "        -0.0018, -0.0188,  0.0216, -0.0135, -0.0320, -0.0051,  0.0029,  0.0037,\n",
      "         0.0122, -0.0232,  0.0299, -0.0352, -0.0075, -0.0347,  0.0035,  0.0071,\n",
      "        -0.0017,  0.0093, -0.0172,  0.0032,  0.0135,  0.0134, -0.0249, -0.0118,\n",
      "        -0.0250,  0.0251, -0.0191,  0.0072,  0.0200,  0.0267,  0.0228,  0.0078,\n",
      "        -0.0068,  0.0323,  0.0189,  0.0057,  0.0057,  0.0059,  0.0265,  0.0200,\n",
      "        -0.0098,  0.0327, -0.0232, -0.0033,  0.0106,  0.0350,  0.0144, -0.0177,\n",
      "        -0.0246, -0.0104,  0.0192,  0.0179,  0.0317, -0.0205,  0.0339, -0.0202,\n",
      "         0.0146, -0.0084, -0.0230, -0.0141,  0.0233,  0.0147, -0.0084, -0.0208],\n",
      "       requires_grad=True)\n"
     ]
    }
   ],
   "source": [
    "print(model.fc1.weight)\n",
    "print(model.fc1.bias)"
   ]
  },
  {
   "cell_type": "markdown",
   "metadata": {},
   "source": [
    "For custom initialization, we want to modify these tensors in place. These are actually autograd *Variables*, so we need to get back the actual tensors with `model.fc1.weight.data`. Once we have the tensors, we can fill them with zeros (for biases) or random normal values."
   ]
  },
  {
   "cell_type": "code",
   "execution_count": 32,
   "metadata": {},
   "outputs": [
    {
     "data": {
      "text/plain": [
       "tensor([0., 0., 0., 0., 0., 0., 0., 0., 0., 0., 0., 0., 0., 0., 0., 0., 0., 0., 0., 0., 0., 0., 0., 0.,\n",
       "        0., 0., 0., 0., 0., 0., 0., 0., 0., 0., 0., 0., 0., 0., 0., 0., 0., 0., 0., 0., 0., 0., 0., 0.,\n",
       "        0., 0., 0., 0., 0., 0., 0., 0., 0., 0., 0., 0., 0., 0., 0., 0., 0., 0., 0., 0., 0., 0., 0., 0.,\n",
       "        0., 0., 0., 0., 0., 0., 0., 0., 0., 0., 0., 0., 0., 0., 0., 0., 0., 0., 0., 0., 0., 0., 0., 0.,\n",
       "        0., 0., 0., 0., 0., 0., 0., 0., 0., 0., 0., 0., 0., 0., 0., 0., 0., 0., 0., 0., 0., 0., 0., 0.,\n",
       "        0., 0., 0., 0., 0., 0., 0., 0.])"
      ]
     },
     "execution_count": 32,
     "metadata": {},
     "output_type": "execute_result"
    }
   ],
   "source": [
    "# Set biases to all zeros\n",
    "model.fc1.bias.data.fill_(0)"
   ]
  },
  {
   "cell_type": "code",
   "execution_count": 33,
   "metadata": {},
   "outputs": [
    {
     "data": {
      "text/plain": [
       "tensor([[ 1.3028e-02,  9.4230e-03, -7.1767e-03,  ..., -1.1009e-02,\n",
       "          5.4664e-04, -1.5888e-02],\n",
       "        [-2.7663e-03,  1.1054e-03, -1.3106e-02,  ...,  1.3516e-02,\n",
       "         -8.5180e-03,  1.1138e-02],\n",
       "        [-5.3840e-03, -3.3872e-03, -1.7977e-02,  ..., -1.2824e-02,\n",
       "         -1.5864e-02,  6.3101e-03],\n",
       "        ...,\n",
       "        [-7.1090e-03, -1.0512e-02,  5.6945e-03,  ..., -8.4187e-03,\n",
       "         -2.6075e-03, -1.0710e-02],\n",
       "        [ 4.6900e-06,  7.5892e-03,  1.5711e-02,  ..., -2.2011e-02,\n",
       "         -3.2696e-03, -3.3679e-03],\n",
       "        [ 1.1039e-02, -1.0436e-02, -1.2581e-03,  ...,  1.5505e-02,\n",
       "         -7.0602e-03,  4.9870e-03]])"
      ]
     },
     "execution_count": 33,
     "metadata": {},
     "output_type": "execute_result"
    }
   ],
   "source": [
    "# sample from random normal with standard dev = 0.01\n",
    "model.fc1.weight.data.normal_(std=0.01)"
   ]
  },
  {
   "cell_type": "markdown",
   "metadata": {},
   "source": [
    "### Forward pass\n",
    "\n",
    "Now that we have a network, let's see what happens when we pass in an image."
   ]
  },
  {
   "cell_type": "code",
   "execution_count": 40,
   "metadata": {},
   "outputs": [
    {
     "data": {
      "image/png": "[encoded data removed]",
      "text/plain": [
       "<Figure size 432x648 with 2 Axes>"
      ]
     },
     "metadata": {
      "image/png": {
       "height": 235,
       "width": 424
      },
      "needs_background": "light"
     },
     "output_type": "display_data"
    }
   ],
   "source": [
    "# Grab some data \n",
    "dataiter = iter(trainloader)\n",
    "images, labels = dataiter.next()\n",
    "\n",
    "# Resize images into a 1D vector, new shape is (batch size, color channels, image pixels) \n",
    "images.resize_(64, 1, 784)\n",
    "# or images.resize_(images.shape[0], 1, 784) to automatically get batch size\n",
    "\n",
    "# Forward pass through the network\n",
    "img_idx = 0\n",
    "ps = model.forward(images[img_idx,:])\n",
    "\n",
    "img = images[img_idx]\n",
    "helper.view_classify(img.view(1, 28, 28), ps)"
   ]
  },
  {
   "cell_type": "markdown",
   "metadata": {},
   "source": [
    "As you can see above, our network has basically no idea what this digit is. It's because we haven't trained it yet, all the weights are random!\n",
    "\n",
    "### Using `nn.Sequential`\n",
    "\n",
    "PyTorch provides a convenient way to build networks like this where a tensor is passed sequentially through operations, `nn.Sequential` ([documentation](https://pytorch.org/docs/master/nn.html#torch.nn.Sequential)). Using this to build the equivalent network:"
   ]
  },
  {
   "cell_type": "code",
   "execution_count": 41,
   "metadata": {},
   "outputs": [
    {
     "name": "stdout",
     "output_type": "stream",
     "text": [
      "Sequential(\n",
      "  (0): Linear(in_features=784, out_features=128, bias=True)\n",
      "  (1): ReLU()\n",
      "  (2): Linear(in_features=128, out_features=64, bias=True)\n",
      "  (3): ReLU()\n",
      "  (4): Linear(in_features=64, out_features=10, bias=True)\n",
      "  (5): Softmax(dim=1)\n",
      ")\n"
     ]
    },
    {
     "data": {
      "image/png": "[encoded data removed]",
      "text/plain": [
       "<Figure size 432x648 with 2 Axes>"
      ]
     },
     "metadata": {
      "image/png": {
       "height": 235,
       "width": 424
      },
      "needs_background": "light"
     },
     "output_type": "display_data"
    }
   ],
   "source": [
    "# Hyperparameters for our network\n",
    "input_size = 784\n",
    "hidden_sizes = [128, 64]\n",
    "output_size = 10\n",
    "\n",
    "# Build a feed-forward network\n",
    "model = nn.Sequential(nn.Linear(input_size, hidden_sizes[0]),\n",
    "                      nn.ReLU(),\n",
    "                      nn.Linear(hidden_sizes[0], hidden_sizes[1]),\n",
    "                      nn.ReLU(),\n",
    "                      nn.Linear(hidden_sizes[1], output_size),\n",
    "                      nn.Softmax(dim=1))\n",
    "print(model)\n",
    "\n",
    "# Forward pass through the network and display output\n",
    "images, labels = next(iter(trainloader))\n",
    "images.resize_(images.shape[0], 1, 784)\n",
    "ps = model.forward(images[0,:])\n",
    "helper.view_classify(images[0].view(1, 28, 28), ps)"
   ]
  },
  {
   "cell_type": "markdown",
   "metadata": {},
   "source": [
    "Here our model is the same as before: 784 input units, a hidden layer with 128 units, ReLU activation, 64 unit hidden layer, another ReLU, then the output layer with 10 units, and the softmax output.\n",
    "\n",
    "The operations are available by passing in the appropriate index. For example, if you want to get first Linear operation and look at the weights, you'd use `model[0]`."
   ]
  },
  {
   "cell_type": "code",
   "execution_count": 42,
   "metadata": {},
   "outputs": [
    {
     "name": "stdout",
     "output_type": "stream",
     "text": [
      "Linear(in_features=784, out_features=128, bias=True)\n"
     ]
    },
    {
     "data": {
      "text/plain": [
       "Parameter containing:\n",
       "tensor([[ 0.0115,  0.0048, -0.0170,  ..., -0.0338,  0.0107, -0.0049],\n",
       "        [-0.0100, -0.0137, -0.0306,  ..., -0.0343, -0.0163, -0.0078],\n",
       "        [-0.0327,  0.0115, -0.0027,  ...,  0.0046,  0.0046, -0.0298],\n",
       "        ...,\n",
       "        [-0.0301,  0.0085, -0.0084,  ...,  0.0031,  0.0160, -0.0233],\n",
       "        [-0.0223, -0.0309,  0.0054,  ...,  0.0119,  0.0314, -0.0140],\n",
       "        [-0.0038, -0.0233,  0.0268,  ...,  0.0054, -0.0012, -0.0117]],\n",
       "       requires_grad=True)"
      ]
     },
     "execution_count": 42,
     "metadata": {},
     "output_type": "execute_result"
    }
   ],
   "source": [
    "print(model[0])\n",
    "model[0].weight"
   ]
  },
  {
   "cell_type": "markdown",
   "metadata": {},
   "source": [
    "You can also pass in an `OrderedDict` to name the individual layers and operations, instead of using incremental integers. Note that dictionary keys must be unique, so _each operation must have a different name_."
   ]
  },
  {
   "cell_type": "code",
   "execution_count": 43,
   "metadata": {},
   "outputs": [
    {
     "data": {
      "text/plain": [
       "Sequential(\n",
       "  (fc1): Linear(in_features=784, out_features=128, bias=True)\n",
       "  (relu1): ReLU()\n",
       "  (fc2): Linear(in_features=128, out_features=64, bias=True)\n",
       "  (relu2): ReLU()\n",
       "  (output): Linear(in_features=64, out_features=10, bias=True)\n",
       "  (softmax): Softmax(dim=1)\n",
       ")"
      ]
     },
     "execution_count": 43,
     "metadata": {},
     "output_type": "execute_result"
    }
   ],
   "source": [
    "from collections import OrderedDict\n",
    "model = nn.Sequential(OrderedDict([\n",
    "                      ('fc1', nn.Linear(input_size, hidden_sizes[0])),\n",
    "                      ('relu1', nn.ReLU()),\n",
    "                      ('fc2', nn.Linear(hidden_sizes[0], hidden_sizes[1])),\n",
    "                      ('relu2', nn.ReLU()),\n",
    "                      ('output', nn.Linear(hidden_sizes[1], output_size)),\n",
    "                      ('softmax', nn.Softmax(dim=1))]))\n",
    "model"
   ]
  },
  {
   "cell_type": "markdown",
   "metadata": {},
   "source": [
    "Now you can access layers either by integer or the name"
   ]
  },
  {
   "cell_type": "code",
   "execution_count": 44,
   "metadata": {},
   "outputs": [
    {
     "name": "stdout",
     "output_type": "stream",
     "text": [
      "Linear(in_features=784, out_features=128, bias=True)\n",
      "Linear(in_features=784, out_features=128, bias=True)\n"
     ]
    }
   ],
   "source": [
    "print(model[0])\n",
    "print(model.fc1)"
   ]
  },
  {
   "cell_type": "markdown",
   "metadata": {},
   "source": [
    "In the next notebook, we'll see how we can train a neural network to accuractly predict the numbers appearing in the MNIST images."
   ]
  }
 ],
 "metadata": {
  "kernelspec": {
   "display_name": "Python 3",
   "language": "python",
   "name": "python3"
  },
  "language_info": {
   "codemirror_mode": {
    "name": "ipython",
    "version": 3
   },
   "file_extension": ".py",
   "mimetype": "text/x-python",
   "name": "python",
   "nbconvert_exporter": "python",
   "pygments_lexer": "ipython3",
   "version": "3.6.9"
  },
  "toc": {
   "base_numbering": 1,
   "nav_menu": {},
   "number_sections": true,
   "sideBar": true,
   "skip_h1_title": false,
   "title_cell": "Table of Contents",
   "title_sidebar": "Contents",
   "toc_cell": false,
   "toc_position": {},
   "toc_section_display": true,
   "toc_window_display": false
  }
 },
 "nbformat": 4,
 "nbformat_minor": 2
}
