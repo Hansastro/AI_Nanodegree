{
 "cells": [
  {
   "cell_type": "markdown",
   "metadata": {},
   "source": [
    "# Inference and Validation\n",
    "\n",
    "Now that you have a trained network, you can use it for making predictions. This is typically called **inference**, a term borrowed from statistics. However, neural networks have a tendency to perform *too well* on the training data and aren't able to generalize to data that hasn't been seen before. This is called **overfitting** and it impairs inference performance. To test for overfitting while training, we measure the performance on data not in the training set called the **validation** set. We avoid overfitting through regularization such as dropout while monitoring the validation performance during training. In this notebook, I'll show you how to do this in PyTorch. \n",
    "\n",
    "As usual, let's start by loading the dataset through torchvision. You'll learn more about torchvision and loading data in a later part. This time we'll be taking advantage of the test set which you can get by setting `train=False` here:\n",
    "\n",
    "```python\n",
    "testset = datasets.FashionMNIST('~/.pytorch/F_MNIST_data/', download=True, train=False, transform=transform)\n",
    "```\n",
    "\n",
    "The test set contains images just like the training set. Typically you'll see 10-20% of the original dataset held out for testing and validation with the rest being used for training."
   ]
  },
  {
   "cell_type": "code",
   "execution_count": 1,
   "metadata": {},
   "outputs": [],
   "source": [
    "import torch\n",
    "from torchvision import datasets, transforms\n",
    "\n",
    "# Define a transform to normalize the data\n",
    "transform = transforms.Compose([transforms.ToTensor(),\n",
    "                                transforms.Normalize((0.5,), (0.5,))])\n",
    "# Download and load the training data\n",
    "trainset = datasets.FashionMNIST('~/.pytorch/F_MNIST_data/', download=True, train=True, transform=transform)\n",
    "trainloader = torch.utils.data.DataLoader(trainset, batch_size=64, shuffle=True)\n",
    "\n",
    "# Download and load the test data\n",
    "testset = datasets.FashionMNIST('~/.pytorch/F_MNIST_data/', download=True, train=False, transform=transform)\n",
    "testloader = torch.utils.data.DataLoader(testset, batch_size=64, shuffle=True)"
   ]
  },
  {
   "cell_type": "markdown",
   "metadata": {},
   "source": [
    "Here I'll create a model like normal, using the same one from my solution for part 4."
   ]
  },
  {
   "cell_type": "code",
   "execution_count": 3,
   "metadata": {},
   "outputs": [],
   "source": [
    "from torch import nn, optim\n",
    "import torch.nn.functional as F\n",
    "\n",
    "class Classifier(nn.Module):\n",
    "    def __init__(self):\n",
    "        super().__init__()\n",
    "        self.fc1 = nn.Linear(784, 256)\n",
    "        self.fc2 = nn.Linear(256, 128)\n",
    "        self.fc3 = nn.Linear(128, 64)\n",
    "        self.fc4 = nn.Linear(64, 10)\n",
    "        \n",
    "    def forward(self, x):\n",
    "        # make sure input tensor is flattened\n",
    "        x = x.view(x.shape[0], -1)\n",
    "        \n",
    "        x = F.relu(self.fc1(x))\n",
    "        x = F.relu(self.fc2(x))\n",
    "        x = F.relu(self.fc3(x))\n",
    "        x = F.log_softmax(self.fc4(x), dim=1)\n",
    "        \n",
    "        return x"
   ]
  },
  {
   "cell_type": "markdown",
   "metadata": {},
   "source": [
    "The goal of validation is to measure the model's performance on data that isn't part of the training set. Performance here is up to the developer to define though. Typically this is just accuracy, the percentage of classes the network predicted correctly. Other options are [precision and recall](https://en.wikipedia.org/wiki/Precision_and_recall#Definition_(classification_context)) and top-5 error rate. We'll focus on accuracy here. First I'll do a forward pass with one batch from the test set."
   ]
  },
  {
   "cell_type": "code",
   "execution_count": 4,
   "metadata": {},
   "outputs": [
    {
     "name": "stdout",
     "output_type": "stream",
     "text": [
      "torch.Size([64, 10])\n"
     ]
    }
   ],
   "source": [
    "model = Classifier()\n",
    "\n",
    "images, labels = next(iter(testloader))\n",
    "# Get the class probabilities\n",
    "ps = torch.exp(model(images))\n",
    "# Make sure the shape is appropriate, we should get 10 class probabilities for 64 examples\n",
    "print(ps.shape)"
   ]
  },
  {
   "cell_type": "markdown",
   "metadata": {},
   "source": [
    "With the probabilities, we can get the most likely class using the `ps.topk` method. This returns the $k$ highest values. Since we just want the most likely class, we can use `ps.topk(1)`. This returns a tuple of the top-$k$ values and the top-$k$ indices. If the highest value is the fifth element, we'll get back 4 as the index."
   ]
  },
  {
   "cell_type": "code",
   "execution_count": 5,
   "metadata": {},
   "outputs": [
    {
     "name": "stdout",
     "output_type": "stream",
     "text": [
      "tensor([[3],\n",
      "        [9],\n",
      "        [3],\n",
      "        [9],\n",
      "        [6],\n",
      "        [3],\n",
      "        [9],\n",
      "        [3],\n",
      "        [3],\n",
      "        [9]])\n"
     ]
    }
   ],
   "source": [
    "top_p, top_class = ps.topk(1, dim=1)\n",
    "# Look at the most likely classes for the first 10 examples\n",
    "print(top_class[:10,:])"
   ]
  },
  {
   "cell_type": "markdown",
   "metadata": {},
   "source": [
    "Now we can check if the predicted classes match the labels. This is simple to do by equating `top_class` and `labels`, but we have to be careful of the shapes. Here `top_class` is a 2D tensor with shape `(64, 1)` while `labels` is 1D with shape `(64)`. To get the equality to work out the way we want, `top_class` and `labels` must have the same shape.\n",
    "\n",
    "If we do\n",
    "\n",
    "```python\n",
    "equals = top_class == labels\n",
    "```\n",
    "\n",
    "`equals` will have shape `(64, 64)`, try it yourself. What it's doing is comparing the one element in each row of `top_class` with each element in `labels` which returns 64 True/False boolean values for each row."
   ]
  },
  {
   "cell_type": "code",
   "execution_count": 6,
   "metadata": {},
   "outputs": [],
   "source": [
    "equals = top_class == labels.view(*top_class.shape)"
   ]
  },
  {
   "cell_type": "markdown",
   "metadata": {},
   "source": [
    "Now we need to calculate the percentage of correct predictions. `equals` has binary values, either 0 or 1. This means that if we just sum up all the values and divide by the number of values, we get the percentage of correct predictions. This is the same operation as taking the mean, so we can get the accuracy with a call to `torch.mean`. If only it was that simple. If you try `torch.mean(equals)`, you'll get an error\n",
    "\n",
    "```\n",
    "RuntimeError: mean is not implemented for type torch.ByteTensor\n",
    "```\n",
    "\n",
    "This happens because `equals` has type `torch.ByteTensor` but `torch.mean` isn't implemented for tensors with that type. So we'll need to convert `equals` to a float tensor. Note that when we take `torch.mean` it returns a scalar tensor, to get the actual value as a float we'll need to do `accuracy.item()`."
   ]
  },
  {
   "cell_type": "code",
   "execution_count": 7,
   "metadata": {},
   "outputs": [
    {
     "name": "stdout",
     "output_type": "stream",
     "text": [
      "Accuracy: 9.375%\n"
     ]
    }
   ],
   "source": [
    "accuracy = torch.mean(equals.type(torch.FloatTensor))\n",
    "print(f'Accuracy: {accuracy.item()*100}%')"
   ]
  },
  {
   "cell_type": "markdown",
   "metadata": {},
   "source": [
    "The network is untrained so it's making random guesses and we should see an accuracy around 10%. Now let's train our network and include our validation pass so we can measure how well the network is performing on the test set. Since we're not updating our parameters in the validation pass, we can speed up our code by turning off gradients using `torch.no_grad()`:\n",
    "\n",
    "```python\n",
    "# turn off gradients\n",
    "with torch.no_grad():\n",
    "    # validation pass here\n",
    "    for images, labels in testloader:\n",
    "        ...\n",
    "```\n",
    "\n",
    ">**Exercise:** Implement the validation loop below and print out the total accuracy after the loop. You can largely copy and paste the code from above, but I suggest typing it in because writing it out yourself is essential for building the skill. In general you'll always learn more by typing it rather than copy-pasting. You should be able to get an accuracy above 80%."
   ]
  },
  {
   "cell_type": "code",
   "execution_count": 18,
   "metadata": {},
   "outputs": [
    {
     "name": "stdout",
     "output_type": "stream",
     "text": [
      "Epoch: 0, Accuracy: 75.0%, training loss: 0.5167577509114991, test loss: 0.47769247583902563\n",
      "Epoch: 1, Accuracy: 93.75%, training loss: 0.3893513863465425, test loss: 0.42936254515769373\n",
      "Epoch: 2, Accuracy: 81.25%, training loss: 0.35726374120060317, test loss: 0.39481519475863996\n",
      "Epoch: 3, Accuracy: 100.0%, training loss: 0.33076171640521174, test loss: 0.39005606929967357\n",
      "Epoch: 4, Accuracy: 93.75%, training loss: 0.3124652900087681, test loss: 0.3722923099045541\n",
      "Epoch: 5, Accuracy: 93.75%, training loss: 0.30234644873373545, test loss: 0.39341991594073117\n",
      "Epoch: 6, Accuracy: 87.5%, training loss: 0.28959205022244566, test loss: 0.37776871784857124\n",
      "Epoch: 7, Accuracy: 93.75%, training loss: 0.28125533277291986, test loss: 0.4109663911116351\n",
      "Epoch: 8, Accuracy: 81.25%, training loss: 0.2738476962820172, test loss: 0.3706356676141168\n",
      "Epoch: 9, Accuracy: 81.25%, training loss: 0.2638365911411197, test loss: 0.3729414022557295\n",
      "Epoch: 10, Accuracy: 87.5%, training loss: 0.2599505778433862, test loss: 0.370925209087551\n",
      "Epoch: 11, Accuracy: 93.75%, training loss: 0.2505122343503209, test loss: 0.3920538391751848\n",
      "Epoch: 12, Accuracy: 81.25%, training loss: 0.24517438545632464, test loss: 0.35206120679522773\n",
      "Epoch: 13, Accuracy: 87.5%, training loss: 0.2415725522752065, test loss: 0.37570500791452494\n",
      "Epoch: 14, Accuracy: 93.75%, training loss: 0.23275306462637904, test loss: 0.37503990303179263\n",
      "Epoch: 15, Accuracy: 62.5%, training loss: 0.234301725974374, test loss: 0.3708759666817963\n",
      "Epoch: 16, Accuracy: 75.0%, training loss: 0.22694927771319587, test loss: 0.3992069661617279\n",
      "Epoch: 17, Accuracy: 87.5%, training loss: 0.22038420112227708, test loss: 0.40196295732715326\n",
      "Epoch: 18, Accuracy: 100.0%, training loss: 0.2177646583927148, test loss: 0.40539876462974744\n",
      "Epoch: 19, Accuracy: 93.75%, training loss: 0.21392824950772943, test loss: 0.3914288457032222\n",
      "Epoch: 20, Accuracy: 100.0%, training loss: 0.206553132029008, test loss: 0.3946406312619045\n",
      "Epoch: 21, Accuracy: 93.75%, training loss: 0.20843208136001248, test loss: 0.3823921731702841\n",
      "Epoch: 22, Accuracy: 93.75%, training loss: 0.20348436349252266, test loss: 0.4003654357259441\n",
      "Epoch: 23, Accuracy: 75.0%, training loss: 0.2033669001567783, test loss: 0.4024559238534065\n",
      "Epoch: 24, Accuracy: 87.5%, training loss: 0.2008679869896504, test loss: 0.4134954505000904\n",
      "Epoch: 25, Accuracy: 75.0%, training loss: 0.19351201862899034, test loss: 0.38881014363401256\n",
      "Epoch: 26, Accuracy: 93.75%, training loss: 0.1882805873268544, test loss: 0.39400536021229565\n",
      "Epoch: 27, Accuracy: 100.0%, training loss: 0.18902375423974954, test loss: 0.3958984022117724\n",
      "Epoch: 28, Accuracy: 81.25%, training loss: 0.17932935978677164, test loss: 0.4393363863609399\n",
      "Epoch: 29, Accuracy: 87.5%, training loss: 0.18680747949691023, test loss: 0.4326694839794165\n"
     ]
    }
   ],
   "source": [
    "model = Classifier()\n",
    "criterion = nn.NLLLoss()\n",
    "optimizer = optim.Adam(model.parameters(), lr=0.003)\n",
    "\n",
    "epochs = 30\n",
    "steps = 0\n",
    "\n",
    "train_losses, test_losses = [], []\n",
    "for e in range(epochs):\n",
    "    running_loss = 0\n",
    "    for images, labels in trainloader:\n",
    "        \n",
    "        optimizer.zero_grad()\n",
    "        \n",
    "        log_ps = model(images)\n",
    "        loss = criterion(log_ps, labels)\n",
    "        loss.backward()\n",
    "        optimizer.step()\n",
    "        \n",
    "        running_loss += loss.item()\n",
    "        \n",
    "    else:\n",
    "        ## TODO: Implement the validation pass and print out the validation accuracy\n",
    "        with torch.no_grad():\n",
    "            test_loss = 0\n",
    "            for images, labels in testloader:\n",
    "                ps = torch.exp(model(images))\n",
    "                loss = criterion(ps.log(), labels)\n",
    "                top_p, top_class = ps.topk(1, dim=1)\n",
    "                equals = top_class == labels.view(*top_class.shape)\n",
    "                accuracy = torch.mean(equals.type(torch.FloatTensor))\n",
    "                test_loss += loss.item()\n",
    "            print(f'Epoch: {e}, Accuracy: {accuracy.item()*100}%, training loss: {running_loss/len(trainloader)}, test loss: {test_loss/len(testloader)}')\n",
    "            train_losses.append(running_loss/len(trainloader))\n",
    "            test_losses.append(test_loss/len(testloader))"
   ]
  },
  {
   "cell_type": "code",
   "execution_count": 20,
   "metadata": {},
   "outputs": [
    {
     "data": {
      "image/png": "[encoded data removed]",
      "text/plain": [
       "<Figure size 432x288 with 1 Axes>"
      ]
     },
     "metadata": {
      "needs_background": "light"
     },
     "output_type": "display_data"
    }
   ],
   "source": [
    "import matplotlib.pyplot as plt\n",
    "plt.plot(train_losses)\n",
    "plt.plot(test_losses)\n",
    "\n",
    "plt.show()"
   ]
  },
  {
   "cell_type": "markdown",
   "metadata": {},
   "source": [
    "## Overfitting\n",
    "\n",
    "If we look at the training and validation losses as we train the network, we can see a phenomenon known as overfitting.\n",
    "\n",
    "<img src='assets/overfitting.png' width=450px>\n",
    "\n",
    "The network learns the training set better and better, resulting in lower training losses. However, it starts having problems generalizing to data outside the training set leading to the validation loss increasing. The ultimate goal of any deep learning model is to make predictions on new data, so we should strive to get the lowest validation loss possible. One option is to use the version of the model with the lowest validation loss, here the one around 8-10 training epochs. This strategy is called *early-stopping*. In practice, you'd save the model frequently as you're training then later choose the model with the lowest validation loss.\n",
    "\n",
    "The most common method to reduce overfitting (outside of early-stopping) is *dropout*, where we randomly drop input units. This forces the network to share information between weights, increasing it's ability to generalize to new data. Adding dropout in PyTorch is straightforward using the [`nn.Dropout`](https://pytorch.org/docs/stable/nn.html#torch.nn.Dropout) module.\n",
    "\n",
    "```python\n",
    "class Classifier(nn.Module):\n",
    "    def __init__(self):\n",
    "        super().__init__()\n",
    "        self.fc1 = nn.Linear(784, 256)\n",
    "        self.fc2 = nn.Linear(256, 128)\n",
    "        self.fc3 = nn.Linear(128, 64)\n",
    "        self.fc4 = nn.Linear(64, 10)\n",
    "        \n",
    "        # Dropout module with 0.2 drop probability\n",
    "        self.dropout = nn.Dropout(p=0.2)\n",
    "        \n",
    "    def forward(self, x):\n",
    "        # make sure input tensor is flattened\n",
    "        x = x.view(x.shape[0], -1)\n",
    "        \n",
    "        # Now with dropout\n",
    "        x = self.dropout(F.relu(self.fc1(x)))\n",
    "        x = self.dropout(F.relu(self.fc2(x)))\n",
    "        x = self.dropout(F.relu(self.fc3(x)))\n",
    "        \n",
    "        # output so no dropout here\n",
    "        x = F.log_softmax(self.fc4(x), dim=1)\n",
    "        \n",
    "        return x\n",
    "```\n",
    "\n",
    "During training we want to use dropout to prevent overfitting, but during inference we want to use the entire network. So, we need to turn off dropout during validation, testing, and whenever we're using the network to make predictions. To do this, you use `model.eval()`. This sets the model to evaluation mode where the dropout probability is 0. You can turn dropout back on by setting the model to train mode with `model.train()`. In general, the pattern for the validation loop will look like this, where you turn off gradients, set the model to evaluation mode, calculate the validation loss and metric, then set the model back to train mode.\n",
    "\n",
    "```python\n",
    "# turn off gradients\n",
    "with torch.no_grad():\n",
    "    \n",
    "    # set model to evaluation mode\n",
    "    model.eval()\n",
    "    \n",
    "    # validation pass here\n",
    "    for images, labels in testloader:\n",
    "        ...\n",
    "\n",
    "# set model back to train mode\n",
    "model.train()\n",
    "```"
   ]
  },
  {
   "cell_type": "markdown",
   "metadata": {},
   "source": [
    "> **Exercise:** Add dropout to your model and train it on Fashion-MNIST again. See if you can get a lower validation loss or higher accuracy."
   ]
  },
  {
   "cell_type": "code",
   "execution_count": 33,
   "metadata": {},
   "outputs": [],
   "source": [
    "## TODO: Define your model with dropout added\n",
    "class dropoutClassifer(nn.Module):\n",
    "    def __init__(self):\n",
    "        super().__init__()\n",
    "        self.fc1 = nn.Linear(784, 256)\n",
    "        self.fc2 = nn.Linear(256, 128)\n",
    "        self.fc3 = nn.Linear(128, 64)\n",
    "        self.fc4 = nn.Linear(64, 10)\n",
    "        \n",
    "        self.dropout = nn.Dropout(p=0.2)\n",
    "    \n",
    "    def forward(self, x):\n",
    "        x = x.view(x.shape[0], -1)\n",
    "        \n",
    "        x = self.dropout(F.relu(self.fc1(x)))\n",
    "        x = self.dropout(F.relu(self.fc2(x)))\n",
    "        x = self.dropout(F.relu(self.fc3(x)))\n",
    "\n",
    "        x = F.log_softmax(self.fc4(x), dim=1)\n",
    "        \n",
    "        return x"
   ]
  },
  {
   "cell_type": "code",
   "execution_count": 34,
   "metadata": {},
   "outputs": [
    {
     "name": "stdout",
     "output_type": "stream",
     "text": [
      "Epoch: 0, Accuracy: 93.75%, training loss: 0.6003355905413628, test loss: 0.551844541244446\n",
      "Epoch: 1, Accuracy: 93.75%, training loss: 0.4825437840209333, test loss: 0.5020676410881577\n",
      "Epoch: 2, Accuracy: 81.25%, training loss: 0.4523795070265656, test loss: 0.4743293150784863\n",
      "Epoch: 3, Accuracy: 100.0%, training loss: 0.43032475197111875, test loss: 0.47825813103633324\n",
      "Epoch: 4, Accuracy: 87.5%, training loss: 0.41901839051101764, test loss: 0.47924928708820586\n",
      "Epoch: 5, Accuracy: 93.75%, training loss: 0.41115310966078916, test loss: 0.48254646569680254\n",
      "Epoch: 6, Accuracy: 93.75%, training loss: 0.41282864704505723, test loss: 0.46724965390126416\n",
      "Epoch: 7, Accuracy: 81.25%, training loss: 0.39881020418997765, test loss: 0.47206192012805087\n",
      "Epoch: 8, Accuracy: 81.25%, training loss: 0.3872482642563167, test loss: 0.46032400239425103\n",
      "Epoch: 9, Accuracy: 100.0%, training loss: 0.3923248320118959, test loss: 0.4709450831506283\n",
      "Epoch: 10, Accuracy: 75.0%, training loss: 0.3875983173627335, test loss: 0.45229797862517607\n",
      "Epoch: 11, Accuracy: 81.25%, training loss: 0.3777514029063904, test loss: 0.458134274194195\n",
      "Epoch: 12, Accuracy: 87.5%, training loss: 0.37917879295310997, test loss: 0.4690081031079505\n",
      "Epoch: 13, Accuracy: 93.75%, training loss: 0.3670830480627287, test loss: 0.4472214010111086\n",
      "Epoch: 14, Accuracy: 81.25%, training loss: 0.3717121056783428, test loss: 0.4552988542872629\n",
      "Epoch: 15, Accuracy: 87.5%, training loss: 0.3689177492057591, test loss: 0.5044404370769574\n",
      "Epoch: 16, Accuracy: 93.75%, training loss: 0.36761396908080146, test loss: 0.4489369731230341\n",
      "Epoch: 17, Accuracy: 93.75%, training loss: 0.3602998547478398, test loss: 0.45691407087502206\n",
      "Epoch: 18, Accuracy: 87.5%, training loss: 0.3567841788297142, test loss: 0.4413731595513168\n",
      "Epoch: 19, Accuracy: 93.75%, training loss: 0.3533951393338536, test loss: 0.4561531648609289\n",
      "Epoch: 20, Accuracy: 100.0%, training loss: 0.356024467614668, test loss: 0.43932563218341514\n",
      "Epoch: 21, Accuracy: 81.25%, training loss: 0.3478322199253894, test loss: 0.47927317270048103\n",
      "Epoch: 22, Accuracy: 87.5%, training loss: 0.3450748987480013, test loss: 0.44257377258911257\n",
      "Epoch: 23, Accuracy: 75.0%, training loss: 0.35526516253569485, test loss: 0.4576880848331816\n",
      "Epoch: 24, Accuracy: 93.75%, training loss: 0.3487614061691359, test loss: 0.4457874845737105\n",
      "Epoch: 25, Accuracy: 75.0%, training loss: 0.3468616120993837, test loss: 0.46112110608132784\n",
      "Epoch: 26, Accuracy: 75.0%, training loss: 0.3419924700803467, test loss: 0.44226900730163426\n",
      "Epoch: 27, Accuracy: 75.0%, training loss: 0.3460985726829785, test loss: 0.47741980736802336\n",
      "Epoch: 28, Accuracy: 81.25%, training loss: 0.3421339805303479, test loss: 0.46729668462352386\n",
      "Epoch: 29, Accuracy: 81.25%, training loss: 0.34675234785752257, test loss: 0.4412002531206532\n"
     ]
    }
   ],
   "source": [
    "## TODO: Train your model with dropout, and monitor the training progress with the validation loss and accuracy\n",
    "model = dropoutClassifer()\n",
    "criterion = nn.NLLLoss()\n",
    "optimizer = optim.Adam(model.parameters(), lr=0.003)\n",
    "\n",
    "epochs = 30\n",
    "steps = 0\n",
    "\n",
    "train_losses, test_losses = [], []\n",
    "for e in range(epochs):\n",
    "    running_loss = 0\n",
    "    for images, labels in trainloader:\n",
    "        \n",
    "        optimizer.zero_grad()\n",
    "        \n",
    "        log_ps = model(images)\n",
    "        loss = criterion(log_ps, labels)\n",
    "        loss.backward()\n",
    "        optimizer.step()\n",
    "        \n",
    "        running_loss += loss.item()\n",
    "        \n",
    "    else:\n",
    "        ## TODO: Implement the validation pass and print out the validation accuracy\n",
    "        with torch.no_grad():\n",
    "            test_loss = 0\n",
    "            for images, labels in testloader:\n",
    "                ps = torch.exp(model(images))\n",
    "                loss = criterion(ps.log(), labels)\n",
    "                top_p, top_class = ps.topk(1, dim=1)\n",
    "                equals = top_class == labels.view(*top_class.shape)\n",
    "                accuracy = torch.mean(equals.type(torch.FloatTensor))\n",
    "                test_loss += loss.item()\n",
    "            print(f'Epoch: {e}, Accuracy: {accuracy.item()*100}%, training loss: {running_loss/len(trainloader)}, test loss: {test_loss/len(testloader)}')\n",
    "            train_losses.append(running_loss/len(trainloader))\n",
    "            test_losses.append(test_loss/len(testloader))"
   ]
  },
  {
   "cell_type": "code",
   "execution_count": 35,
   "metadata": {},
   "outputs": [
    {
     "data": {
      "image/png": "[encoded data removed]",
      "text/plain": [
       "<Figure size 432x288 with 1 Axes>"
      ]
     },
     "metadata": {
      "needs_background": "light"
     },
     "output_type": "display_data"
    }
   ],
   "source": [
    "import matplotlib.pyplot as plt\n",
    "plt.plot(train_losses)\n",
    "plt.plot(test_losses)\n",
    "\n",
    "plt.show()"
   ]
  },
  {
   "cell_type": "markdown",
   "metadata": {},
   "source": [
    "## Inference\n",
    "\n",
    "Now that the model is trained, we can use it for inference. We've done this before, but now we need to remember to set the model in inference mode with `model.eval()`. You'll also want to turn off autograd with the `torch.no_grad()` context."
   ]
  },
  {
   "cell_type": "code",
   "execution_count": 75,
   "metadata": {},
   "outputs": [
    {
     "data": {
      "image/png": "[encoded data removed]",
      "text/plain": [
       "<Figure size 432x648 with 2 Axes>"
      ]
     },
     "metadata": {
      "needs_background": "light"
     },
     "output_type": "display_data"
    }
   ],
   "source": [
    "# Import helper module (should be in the repo)\n",
    "import helper\n",
    "\n",
    "# Test out your network!\n",
    "\n",
    "model.eval()\n",
    "\n",
    "dataiter = iter(testloader)\n",
    "images, labels = dataiter.next()\n",
    "img = images[0]\n",
    "# Convert 2D image to 1D vector\n",
    "img = img.view(1, 784)\n",
    "\n",
    "# Calculate the class probabilities (softmax) for img\n",
    "with torch.no_grad():\n",
    "    output = model.forward(img)\n",
    "\n",
    "ps = torch.exp(output)\n",
    "\n",
    "# Plot the image and probabilities\n",
    "helper.view_classify(img.view(1, 28, 28), ps, version='Fashion')"
   ]
  },
  {
   "cell_type": "markdown",
   "metadata": {},
   "source": [
    "## Next Up!\n",
    "\n",
    "In the next part, I'll show you how to save your trained models. In general, you won't want to train a model everytime you need it. Instead, you'll train once, save it, then load the model when you want to train more or use if for inference."
   ]
  },
  {
   "cell_type": "code",
   "execution_count": null,
   "metadata": {},
   "outputs": [],
   "source": []
  }
 ],
 "metadata": {
  "kernelspec": {
   "display_name": "Python 3",
   "language": "python",
   "name": "python3"
  },
  "language_info": {
   "codemirror_mode": {
    "name": "ipython",
    "version": 3
   },
   "file_extension": ".py",
   "mimetype": "text/x-python",
   "name": "python",
   "nbconvert_exporter": "python",
   "pygments_lexer": "ipython3",
   "version": "3.6.9"
  },
  "toc": {
   "base_numbering": 1,
   "nav_menu": {},
   "number_sections": true,
   "sideBar": true,
   "skip_h1_title": false,
   "title_cell": "Table of Contents",
   "title_sidebar": "Contents",
   "toc_cell": false,
   "toc_position": {},
   "toc_section_display": true,
   "toc_window_display": false
  }
 },
 "nbformat": 4,
 "nbformat_minor": 2
}
